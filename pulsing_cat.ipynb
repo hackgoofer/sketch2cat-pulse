{
 "cells": [
  {
   "cell_type": "code",
   "execution_count": 1,
   "metadata": {},
   "outputs": [],
   "source": [
    "%load_ext autoreload"
   ]
  },
  {
   "cell_type": "code",
   "execution_count": 2,
   "metadata": {},
   "outputs": [],
   "source": [
    "%autoreload 2"
   ]
  },
  {
   "cell_type": "code",
   "execution_count": 3,
   "metadata": {},
   "outputs": [
    {
     "data": {
      "application/javascript": [
       "IPython.OutputArea.auto_scroll_threshold = 9999\n"
      ],
      "text/plain": [
       "<IPython.core.display.Javascript object>"
      ]
     },
     "metadata": {},
     "output_type": "display_data"
    }
   ],
   "source": [
    "%%javascript\n",
    "IPython.OutputArea.auto_scroll_threshold = 9999"
   ]
  },
  {
   "cell_type": "code",
   "execution_count": 4,
   "metadata": {},
   "outputs": [],
   "source": [
    "from PULSE import PULSE\n",
    "import torch\n",
    "from torch.utils.data import Dataset, DataLoader\n",
    "from torch.nn import DataParallel\n",
    "from pathlib import Path\n",
    "from PIL import Image\n",
    "import torchvision\n",
    "from math import log10, ceil"
   ]
  },
  {
   "cell_type": "code",
   "execution_count": 5,
   "metadata": {},
   "outputs": [],
   "source": [
    "import numpy as np\n",
    "import PIL\n",
    "import PIL.Image\n",
    "import sys\n",
    "import os\n",
    "import glob\n",
    "import scipy\n",
    "import scipy.ndimage\n",
    "import dlib\n",
    "from drive import open_url\n",
    "from pathlib import Path\n",
    "from edge_gen import EdgeGen\n",
    "import torchvision\n",
    "from shape_predictor import align_face"
   ]
  },
  {
   "cell_type": "code",
   "execution_count": 6,
   "metadata": {},
   "outputs": [],
   "source": [
    "import matplotlib.pyplot as plt\n",
    "import collections\n",
    "import stylegan\n",
    "import tempfile\n",
    "import subprocess"
   ]
  },
  {
   "cell_type": "markdown",
   "metadata": {},
   "source": [
    "### Convert Weights\n",
    "Only run once"
   ]
  },
  {
   "cell_type": "code",
   "execution_count": 85,
   "metadata": {},
   "outputs": [],
   "source": [
    "# mapping network\n",
    "f = cache_dir / \"g_all.pt\"\n",
    "mapping = {k[len(\"g_mapping.\"):]:v for k,v in torch.load(f).items() if k.startswith(\"g_mapping.\")}\n",
    "torch.save(mapping, \"cache/mapping.pt\")"
   ]
  },
  {
   "cell_type": "code",
   "execution_count": 86,
   "metadata": {},
   "outputs": [],
   "source": [
    "# synthesis network\n",
    "f = cache_dir / \"g_all.pt\"\n",
    "synthesis = {k[len(\"g_synthesis.\"):].replace(\".top_epi\", \"\"):v for k,v in torch.load(f).items() if k.startswith(\"g_synthesis.\")}\n",
    "torch.save(synthesis, \"cache/synthesis.pt\")"
   ]
  },
  {
   "cell_type": "markdown",
   "metadata": {},
   "source": [
    "### Setup Everything"
   ]
  },
  {
   "cell_type": "code",
   "execution_count": 89,
   "metadata": {},
   "outputs": [],
   "source": [
    "kwargs = dict(\n",
    "    input_dir=\"sketches/1pixel\",  # 'input data directory'\n",
    "    output_dir='runs',  # 'output data directory'\n",
    "    cache_dir='cache',  # 'cache directory for model weights'\n",
    "    duplicates=1,  # 'How many HR images to produce for every image in the input directory'\n",
    "    batch_size=1,  # 'Batch size to use during optimization'\n",
    "    seed=0,  # 'manual seed to use'\n",
    "    loss_str=\"100*L2+0.05*GEOCROSS\",  # 'Loss function to use'\n",
    "    eps=2e-3,  # 'Target for downscaling loss (L2)'\n",
    "    noise_type='trainable',  # 'zero, fixed, or trainable'\n",
    "    num_trainable_noise_layers=5,  # 'Number of noise layers to optimize'\n",
    "    tile_latent=False,  # 'Whether to forcibly tile the same latent 18 times'\n",
    "    bad_noise_layers=\"17\",  # 'List of noise layers to zero out to improve image quality')\n",
    "    opt_name='custom',  # 'Optimizer to use in projected gradient descent'\n",
    "    learning_rate=0.4,  #  help='Learning rate to use during optimization'\n",
    "    steps=200,  # 'Number of optimization steps'\n",
    "    lr_schedule='linear1cycledrop',  # 'fixed, linear1cycledrop, linear1cycle'\n",
    "    save_intermediate=False,  # 'Whether to store and save intermediate HR and LR images during optimization'\n",
    ") "
   ]
  },
  {
   "cell_type": "code",
   "execution_count": 91,
   "metadata": {},
   "outputs": [
    {
     "name": "stdout",
     "output_type": "stream",
     "text": [
      "Loading Synthesis Network\n"
     ]
    }
   ],
   "source": [
    "class Images(Dataset):\n",
    "    def __init__(self, root_dir, duplicates):\n",
    "        self.root_path = Path(root_dir)\n",
    "        self.image_list = list(self.root_path.glob(\"*.png\"))\n",
    "        self.duplicates = duplicates # Number of times to duplicate the image in the dataset to produce multiple HR images\n",
    "        factor = 1024 // 32\n",
    "        self.D = EdgeGen(factor=factor)\n",
    "\n",
    "    def __len__(self):\n",
    "        return self.duplicates*len(self.image_list)\n",
    "\n",
    "    def __getitem__(self, idx):\n",
    "        img_path = self.image_list[idx//self.duplicates]\n",
    "        image = torchvision.transforms.ToTensor()(Image.open(img_path))\n",
    "        # HACK\n",
    "        if image.shape == (3, 1024, 1024):\n",
    "            image = self.D(image.unsqueeze(0).cuda())[0].cpu().detach().clamp(0, 1)\n",
    "        elif image.shape == (3, 32, 32):\n",
    "            # already resized (:\n",
    "            pass\n",
    "        else:\n",
    "            raise ValueError(image.shape)\n",
    "        if(self.duplicates == 1):\n",
    "            return image,img_path.stem\n",
    "        else:\n",
    "            return image,img_path.stem+f\"_{(idx % self.duplicates)+1}\"\n",
    "\n",
    "dataset = Images(kwargs[\"input_dir\"], duplicates=kwargs[\"duplicates\"])\n",
    "out_path = Path(kwargs[\"output_dir\"])\n",
    "out_path.mkdir(parents=True, exist_ok=True)\n",
    "\n",
    "dataloader = DataLoader(dataset, batch_size=kwargs[\"batch_size\"])\n",
    "\n",
    "model = PULSE(cache_dir=kwargs[\"cache_dir\"], resolution=256)\n",
    "# removed because of error:\n",
    "# TypeError: forward() missing 1 required positional argument: 'ref_im'\n",
    "# model = DataParallel(model)\n",
    "\n",
    "toPIL = torchvision.transforms.ToPILImage()"
   ]
  },
  {
   "cell_type": "code",
   "execution_count": null,
   "metadata": {},
   "outputs": [],
   "source": []
  }
 ],
 "metadata": {
  "kernelspec": {
   "display_name": "Python 3",
   "language": "python",
   "name": "python3"
  },
  "language_info": {
   "codemirror_mode": {
    "name": "ipython",
    "version": 3
   },
   "file_extension": ".py",
   "mimetype": "text/x-python",
   "name": "python",
   "nbconvert_exporter": "python",
   "pygments_lexer": "ipython3",
   "version": "3.8.3"
  }
 },
 "nbformat": 4,
 "nbformat_minor": 4
}
